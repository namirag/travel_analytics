{
 "cells": [
  {
   "cell_type": "code",
   "execution_count": 1,
   "metadata": {},
   "outputs": [
    {
     "name": "stdout",
     "output_type": "stream",
     "text": [
      "Enter your choice to display graph:\n",
      "hist\n",
      "Histrogram\n",
      "using default value of count 10\n",
      "if you want to set a new range run code again.\n",
      "Enter your choice.\n",
      "dict\n"
     ]
    },
    {
     "ename": "AttributeError",
     "evalue": "'NoneType' object has no attribute 'keys'",
     "output_type": "error",
     "traceback": [
      "\u001b[0;31m---------------------------------------------------------------------------\u001b[0m",
      "\u001b[0;31mAttributeError\u001b[0m                            Traceback (most recent call last)",
      "Cell \u001b[0;32mIn[1], line 99\u001b[0m\n\u001b[1;32m     97\u001b[0m \u001b[39melif\u001b[39;00m(graph_choice \u001b[39m==\u001b[39m \u001b[39m5\u001b[39m):\n\u001b[1;32m     98\u001b[0m     \u001b[39mprint\u001b[39m(\u001b[39m\"\u001b[39m\u001b[39mhist\u001b[39m\u001b[39m\"\u001b[39m)\n\u001b[0;32m---> 99\u001b[0m     histplot_graph()\n",
      "Cell \u001b[0;32mIn[1], line 75\u001b[0m, in \u001b[0;36mhistplot_graph\u001b[0;34m()\u001b[0m\n\u001b[1;32m     73\u001b[0m \u001b[39mprint\u001b[39m(\u001b[39m\"\u001b[39m\u001b[39mHistrogram\u001b[39m\u001b[39m\"\u001b[39m)\n\u001b[1;32m     74\u001b[0m response \u001b[39m=\u001b[39m trip_data()\n\u001b[0;32m---> 75\u001b[0m modified_data \u001b[39m=\u001b[39m parsing_response_data(api_response \u001b[39m=\u001b[39;49m response)\n\u001b[1;32m     76\u001b[0m travel_df \u001b[39m=\u001b[39m pd\u001b[39m.\u001b[39mDataFrame(modified_data)\n\u001b[1;32m     77\u001b[0m sns\u001b[39m.\u001b[39mhistplot(data\u001b[39m=\u001b[39mtravel_df, x \u001b[39m=\u001b[39m travel_df\u001b[39m.\u001b[39mcolumns[\u001b[39m0\u001b[39m])\n",
      "File \u001b[0;32m~/Documents/travel_response/travel_resp.py:80\u001b[0m, in \u001b[0;36mparsing_response_data\u001b[0;34m(api_response)\u001b[0m\n\u001b[1;32m     78\u001b[0m \u001b[39melse\u001b[39;00m:\n\u001b[1;32m     79\u001b[0m      \u001b[39mprint\u001b[39m(\u001b[39m'\u001b[39m\u001b[39mdict\u001b[39m\u001b[39m'\u001b[39m)\n\u001b[0;32m---> 80\u001b[0m      api_name \u001b[39m=\u001b[39m \u001b[39mlist\u001b[39m(api_response\u001b[39m.\u001b[39;49mkeys())[\u001b[39m0\u001b[39m]\n\u001b[1;32m     81\u001b[0m      \u001b[39mprint\u001b[39m(api_name)\n\u001b[1;32m     82\u001b[0m      api_data \u001b[39m=\u001b[39m \u001b[39mlist\u001b[39m(api_response\u001b[39m.\u001b[39mvalues())[\u001b[39m0\u001b[39m]\n",
      "\u001b[0;31mAttributeError\u001b[0m: 'NoneType' object has no attribute 'keys'"
     ]
    }
   ],
   "source": [
    "from travel_resp import *\n",
    "import pandas as pd\n",
    "import matplotlib.pyplot as plt\n",
    "import seaborn as sns\n",
    "\n",
    "\n",
    "def scatterplot_graph():\n",
    "\n",
    "    print(\"by scatter graph\")\n",
    "    response = trip_data()\n",
    "    modified_reponse = parsing_response_data(api_response=response)\n",
    "    travel_df = pd.DataFrame(modified_reponse)\n",
    "    print(travel_df)\n",
    "    sns.scatterplot(data=travel_df, x = travel_df.columns[0], y = travel_df.columns[1])\n",
    "    sns.set(rc={'figure.figsize':(20,10)})\n",
    "    plt.xticks(rotation=45)\n",
    "    print(f\"x-axis {travel_df.columns[0]}\")\n",
    "    print(f\"y-axis {travel_df.columns[1]}\")\n",
    "    plt.xlabel(travel_df.columns[0])\n",
    "    plt.ylabel(travel_df.columns[1])\n",
    "    plt.title('Highest datas')\n",
    "    plt.plot()\n",
    "    plt.show()    \n",
    "\n",
    "def line_graph_plotting():\n",
    "\n",
    "    print(\"by line graph\")\n",
    "    response = trip_data()\n",
    "    modified_data = parsing_response_data(api_response=response)\n",
    "    travel_df = pd.DataFrame(modified_data)\n",
    "    print(travel_df)\n",
    "    sns.lineplot(data=travel_df, x = travel_df.columns[0], y=travel_df.columns[1])\n",
    "    sns.set(rc={'figure.figsize':(11,10)})\n",
    "    plt.xticks(rotation=45)\n",
    "    plt.xlabel(travel_df.columns[0])\n",
    "    plt.ylabel(travel_df.columns[1])\n",
    "    plt.title('Highest calculated data')\n",
    "    plt.plot()\n",
    "    plt.show()\n",
    "\n",
    "def barplot_graph():\n",
    "    print(\"bar graph\")\n",
    "    response = trip_data()\n",
    "    modified_data = parsing_response_data(api_response=response)\n",
    "    travel_df = pd.DataFrame(modified_data)\n",
    "    print(travel_df.columns[0])\n",
    "    print(travel_df.columns[1])\n",
    "    sns.barplot(data=travel_df, x= travel_df.columns[0], y=travel_df.columns[1])\n",
    "    sns.set(rc={'figure.figsize':(10,15)})\n",
    "    plt.title(\"comparing two data columns\")\n",
    "    print(travel_df.columns[0])\n",
    "    print(travel_df.columns[1])\n",
    "    plt.xlabel(travel_df.columns[0])\n",
    "    plt.ylabel(travel_df.columns[1])\n",
    "    plt.plot()\n",
    "    plt.show()\n",
    "\n",
    "def areaplot_graph():\n",
    "\n",
    "    print(\"area graph\")\n",
    "    response = trip_data()\n",
    "    modified_data = parsing_response_data(api_response=response)\n",
    "    travel_df = pd.DataFrame(modified_data).reset_index()\n",
    "    sns.lineplot(data=travel_df, x= travel_df.columns[0], y=travel_df.columns[1])\n",
    "    sns.set(rc={'figure.figsize':(10,15)})\n",
    "    plt.title(\"comparing two data columns\")\n",
    "    plt.xlabel(travel_df.columns[0])\n",
    "    plt.ylabel(travel_df.columns[1])\n",
    "    plt.plot()\n",
    "    plt.show()\n",
    "\n",
    "def histplot_graph():\n",
    "    print(\"Histrogram\")\n",
    "    response = trip_data()\n",
    "    modified_data = parsing_response_data(api_response = response)\n",
    "    travel_df = pd.DataFrame(modified_data)\n",
    "    sns.histplot(data=travel_df, x = travel_df.columns[0])\n",
    "    print(travel_df)\n",
    "    sns.set(rc={'figure.figsize':(15,15)})\n",
    "    plt.title(f'Histrogram of {travel_df.columns[0]}')\n",
    "    plt.xlabel(travel_df.columns[0])\n",
    "    plt.ylabel(travel_df.columns[1])\n",
    "    plt.plot()\n",
    "    plt.show()\n",
    "\n",
    "print(\"Enter your choice to display graph:\")\n",
    "graph_choice = int(input(\"1.scatter \\n2.line \\n3.bar \\n4.area \\n5.histrogram.\"))\n",
    "if(graph_choice == 1):\n",
    "    scatterplot_graph()\n",
    "elif(graph_choice == 2):\n",
    "    line_graph_plotting()\n",
    "elif(graph_choice == 3):\n",
    "    barplot_graph()\n",
    "elif(graph_choice == 4):\n",
    "    areaplot_graph()\n",
    "    print(\"area\")\n",
    "elif(graph_choice == 5):\n",
    "    print(\"hist\")\n",
    "    histplot_graph()"
   ]
  },
  {
   "cell_type": "code",
   "execution_count": null,
   "metadata": {},
   "outputs": [],
   "source": []
  },
  {
   "attachments": {},
   "cell_type": "markdown",
   "metadata": {},
   "source": [
    "## nationality"
   ]
  },
  {
   "attachments": {},
   "cell_type": "markdown",
   "metadata": {},
   "source": [
    "From the both the graph of trip booking with respect to their nationality based travelling data, it is observe that there is significant decrease from American to New Zealander. The contintent which are tend to have the most tourist attraction people of that country have the least trip booking."
   ]
  },
  {
   "cell_type": "code",
   "execution_count": 1,
   "metadata": {},
   "outputs": [
    {
     "name": "stdout",
     "output_type": "stream",
     "text": [
      "5\n"
     ]
    }
   ],
   "source": [
    "url = 'http://127.0.0.1:5000/data_by_comparison?col_name=traveller_age&compare_col=traveller_nationality'"
   ]
  },
  {
   "cell_type": "code",
   "execution_count": null,
   "metadata": {},
   "outputs": [],
   "source": [
    "elements = int(input(\"Enter numbers\"))"
   ]
  }
 ],
 "metadata": {
  "kernelspec": {
   "display_name": "travel_response",
   "language": "python",
   "name": "python3"
  },
  "language_info": {
   "codemirror_mode": {
    "name": "ipython",
    "version": 3
   },
   "file_extension": ".py",
   "mimetype": "text/x-python",
   "name": "python",
   "nbconvert_exporter": "python",
   "pygments_lexer": "ipython3",
   "version": "3.10.6"
  },
  "orig_nbformat": 4
 },
 "nbformat": 4,
 "nbformat_minor": 2
}
