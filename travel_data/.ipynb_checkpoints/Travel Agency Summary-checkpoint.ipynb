{
 "cells": [
  {
   "cell_type": "markdown",
   "id": "d4432a02",
   "metadata": {},
   "source": [
    "## TRAVEL AGENCY DATA DESCRIPTION"
   ]
  },
  {
   "cell_type": "markdown",
   "id": "d386b6e7",
   "metadata": {},
   "source": [
    "The table illustrates a travel agency data, which consistes upto 138 enteries of 13 columns as complete metrics"
   ]
  },
  {
   "cell_type": "markdown",
   "id": "c07b731a",
   "metadata": {},
   "source": [
    "Focusing, on the first column gives Trip id in decending numeric format till 138. The id are uniquely given to every trip. Secondly, Destination column consist the geographyical area of a trip mostly data having city name with respect to it's country otherwise only country or city is mention."
   ]
  },
  {
   "cell_type": "markdown",
   "id": "7f2fde42",
   "metadata": {},
   "source": [
    "Further, columns provide starting and ending data by this duration of that trip is obtain in months. Following 4 consecutive 4 block having traveler basic in the order primarily name then age , gender and nationailty"
   ]
  },
  {
   "cell_type": "markdown",
   "id": "aad1279c",
   "metadata": {},
   "source": [
    "Lastly, from list of 4 data gives the cost of each type of accommodation taken as well as transportation respectively."
   ]
  },
  {
   "cell_type": "markdown",
   "id": "c1888549",
   "metadata": {},
   "source": [
    "## TABLE CONCLUSION"
   ]
  },
  {
   "cell_type": "markdown",
   "id": "c8e8d679",
   "metadata": {},
   "source": [
    "On summimg up all the information, the report demonstrate about the travel booking of people from different region have different cost of transportation as well as accommodation price varies, this is all interconnected with travelers nationality and travelling spot."
   ]
  },
  {
   "cell_type": "markdown",
   "id": "3af1f3e0",
   "metadata": {},
   "source": [
    "## COLUMN CONCLUSION"
   ]
  },
  {
   "cell_type": "markdown",
   "id": "00e27afb",
   "metadata": {},
   "source": [
    "1. Trip ID - A unique id of each trip having of type int64"
   ]
  },
  {
   "cell_type": "markdown",
   "id": "98f0ffe5",
   "metadata": {},
   "source": [
    "2. Destination - Shows a geographical region of trip followed by city name and country name respectively and data are object type"
   ]
  },
  {
   "cell_type": "markdown",
   "id": "beb25470",
   "metadata": {},
   "source": [
    "3. Start date - Respective trip's starting date with data of object type having format of dd/mm/yyyy"
   ]
  },
  {
   "cell_type": "markdown",
   "id": "e8bc0201",
   "metadata": {},
   "source": [
    "4. End date - Last date of a respective trip with data of object type having format dd/mm/yyyy"
   ]
  },
  {
   "cell_type": "markdown",
   "id": "9165e171",
   "metadata": {},
   "source": [
    "5. Duration - A calculated data of month or days obtain from diffrence of starting and ending date. Values are of float64 type."
   ]
  },
  {
   "cell_type": "markdown",
   "id": "3f1f3306",
   "metadata": {},
   "source": [
    "6. Traveler name - Consist Traveler full name, combination of first and last name; type as an - object"
   ]
  },
  {
   "cell_type": "markdown",
   "id": "7960373a",
   "metadata": {},
   "source": [
    "7. Traveler age - Age of Traveler. Values are of float64 type."
   ]
  },
  {
   "cell_type": "markdown",
   "id": "6c068f8d",
   "metadata": {},
   "source": [
    "8. Traveler gender - A gender specification of Traveler. Values having object type."
   ]
  },
  {
   "cell_type": "markdown",
   "id": "c4055a25",
   "metadata": {},
   "source": [
    "9. Traveler nationality - A proper legal identification of traveler origin country. Values are in object type."
   ]
  },
  {
   "cell_type": "markdown",
   "id": "2b4d8933",
   "metadata": {},
   "source": [
    "10. Accommodation type - Traveler stay in a respective places e.g:- Hotel, Hostel, Villa manymore are in object type."
   ]
  },
  {
   "cell_type": "markdown",
   "id": "95a241ba",
   "metadata": {},
   "source": [
    "11. Accommodation cost - Total Cost traveler payed of where they had stayed having float64 type of data stored."
   ]
  },
  {
   "cell_type": "markdown",
   "id": "bba66100",
   "metadata": {},
   "source": [
    "12. Transportation type - Traveler choice of transportation e.g:- Flight, Car, train object type of data stored."
   ]
  },
  {
   "cell_type": "markdown",
   "id": "8262fb8d",
   "metadata": {},
   "source": [
    "13. Transportation cost - Total Cost traveler payed for trasportation where they had stayed having float64 type of data stored."
   ]
  },
  {
   "cell_type": "markdown",
   "id": "5f738826",
   "metadata": {},
   "source": [
    "# Type of Issues"
   ]
  },
  {
   "cell_type": "markdown",
   "id": "ab7d7ddf",
   "metadata": {},
   "source": [
    "### UNTIDY DATA"
   ]
  },
  {
   "cell_type": "markdown",
   "id": "6343d589",
   "metadata": {},
   "source": [
    "- Row enteries -\n",
    "  - From visulazing data, 2 rows are having missing enteries Trip Id - 72 and 129.. Moreover, there is zero column    filled with any enteries.\n",
    "  - Also, Transportation Cost and type of Trip Id - 83 is missing."
   ]
  },
  {
   "cell_type": "markdown",
   "id": "1a5a5d9b",
   "metadata": {},
   "source": [
    "- Duration(month) - The result answer are ascepted in int type whereas; it was in float64."
   ]
  },
  {
   "cell_type": "markdown",
   "id": "29a9ab33",
   "metadata": {},
   "source": [
    "- Traveler age - Age must store data inint64 type yet it give the output as float64."
   ]
  },
  {
   "cell_type": "markdown",
   "id": "a17570ad",
   "metadata": {},
   "source": [
    "- Accommodation cost -\n",
    "  - The result data are in object type instead of float64.\n",
    "  - The present data are not in proper format, some have USD while some entered with '$' symbol"
   ]
  },
  {
   "cell_type": "markdown",
   "id": "961ca6ec",
   "metadata": {},
   "source": [
    "- Transportation cost -\n",
    "  - The result data are in object type instead of float64.  \n",
    "  - The present data are not in proper format, some have USD while some entered with '$' symbol"
   ]
  },
  {
   "cell_type": "markdown",
   "id": "345b804d",
   "metadata": {},
   "source": [
    "## Messy Data"
   ]
  },
  {
   "cell_type": "markdown",
   "id": "ebe80664",
   "metadata": {},
   "source": [
    "- <b>Destination - </b>Data is sum up as cityname with respect to it is country name but it is expected to have <u> city name and country name in different column.</u> from 17-38, 60-71, 84-115"
   ]
  },
  {
   "cell_type": "markdown",
   "id": "ae2dd674",
   "metadata": {},
   "source": [
    " - <b>Naming Convention - </b>All the head column does not follow same type of writting format. e.g:- Trip ID while other have Start date "
   ]
  },
  {
   "cell_type": "markdown",
   "id": "b5ff5cf7",
   "metadata": {},
   "source": [
    "- <b> Duration - </b>The result shows the time span of trip by difference of start and end month; whereas column head says differences give <u> days as an ouput.</u>"
   ]
  },
  {
   "cell_type": "markdown",
   "id": "18f37ecc",
   "metadata": {},
   "source": [
    "- <b> Duration - </b>The result shows the time span of trip by difference of start and end month; whereas column head says differences give <u> days as an ouput.</u>"
   ]
  },
  {
   "cell_type": "markdown",
   "id": "4a6cf019",
   "metadata": {},
   "source": [
    "- <b>Accommodation cost - </b>The name of column not specifiying currency. "
   ]
  },
  {
   "cell_type": "code",
   "execution_count": null,
   "id": "4391cabc",
   "metadata": {},
   "outputs": [],
   "source": []
  }
 ],
 "metadata": {
  "kernelspec": {
   "display_name": "Python 3 (ipykernel)",
   "language": "python",
   "name": "python3"
  },
  "language_info": {
   "codemirror_mode": {
    "name": "ipython",
    "version": 3
   },
   "file_extension": ".py",
   "mimetype": "text/x-python",
   "name": "python",
   "nbconvert_exporter": "python",
   "pygments_lexer": "ipython3",
   "version": "3.10.6"
  }
 },
 "nbformat": 4,
 "nbformat_minor": 5
}
